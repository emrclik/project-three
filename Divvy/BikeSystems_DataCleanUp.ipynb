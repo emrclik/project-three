{
 "cells": [
  {
   "cell_type": "code",
   "execution_count": 1,
   "metadata": {},
   "outputs": [],
   "source": [
    "%matplotlib inline\n",
    "import matplotlib.pyplot as plt\n",
    "import numpy as np\n",
    "import pandas as pd\n",
    "\n",
    "from datetime import *\n",
    "import time"
   ]
  },
  {
   "cell_type": "markdown",
   "metadata": {},
   "source": [
    "## Data On: \n",
    "\n",
    "## Citi Bike \n",
    "['tripduration',\n",
    " 'starttime',\n",
    " 'stoptime',\n",
    " 'start station id',\n",
    " 'start station name',\n",
    " 'start station latitude',\n",
    " 'start station longitude',\n",
    " 'end station id',\n",
    " 'end station name',\n",
    " 'end station latitude',\n",
    " 'end station longitude',\n",
    " 'bikeid',\n",
    " 'name_localizedValue0',\n",
    " 'usertype',\n",
    " 'birth year',\n",
    " 'gender']\n",
    "\n",
    "[usertype = (Customer = 24-hour pass or 3-day pass user; Subscriber = Annual Member)]\n",
    "\n",
    "## Capital Bike \n",
    "['Duration',\n",
    " 'Start date',\n",
    " 'End date',\n",
    " 'Start station number',\n",
    " 'Start station',\n",
    " 'End station number',\n",
    " 'End station',\n",
    " 'Bike number',\n",
    " 'Member type']\n",
    "\n",
    "[Member Type – Indicates whether user was a \"registered\" member (Annual Member, 30-Day Member or Day Key Member) or a \"casual\" rider (Single Trip, 24-Hour Pass, 3-Day Pass or 5-Day Pass)]\n",
    "\n",
    "\n",
    "## Divvy Bike \n",
    "\n",
    "['trip_id',\n",
    " 'year',\n",
    " 'month',\n",
    " 'week',\n",
    " 'day',\n",
    " 'hour',\n",
    " 'usertype',\n",
    " 'gender',\n",
    " 'starttime',\n",
    " 'stoptime',\n",
    " 'tripduration',\n",
    " 'temperature',\n",
    " 'events',\n",
    " 'from_station_id',\n",
    " 'from_station_name',\n",
    " 'latitude_start',\n",
    " 'longitude_start',\n",
    " 'dpcapacity_start',\n",
    " 'to_station_id',\n",
    " 'to_station_name',\n",
    " 'latitude_end',\n",
    " 'longitude_end',\n",
    " 'dpcapacity_end']"
   ]
  },
  {
   "cell_type": "markdown",
   "metadata": {},
   "source": [
    "## Capital Bike Share May 2018"
   ]
  },
  {
   "cell_type": "code",
   "execution_count": 3,
   "metadata": {},
   "outputs": [],
   "source": [
    "df = pd.read_csv('201805-capitalbikeshare-tripdata.csv')"
   ]
  },
  {
   "cell_type": "code",
   "execution_count": 4,
   "metadata": {},
   "outputs": [],
   "source": [
    "df['Start Date'] = pd.to_datetime(df['Start date']).dt.date\n",
    "df['Start Time'] = pd.to_datetime(df['Start date']).dt.time\n",
    "\n",
    "df['End Date'] = pd.to_datetime(df['End date']).dt.date\n",
    "df['End Time'] = pd.to_datetime(df['End date']).dt.time\n"
   ]
  },
  {
   "cell_type": "code",
   "execution_count": 5,
   "metadata": {},
   "outputs": [
    {
     "data": {
      "text/plain": [
       "['Duration',\n",
       " 'Start date',\n",
       " 'End date',\n",
       " 'Start station number',\n",
       " 'Start station',\n",
       " 'End station number',\n",
       " 'End station',\n",
       " 'Bike number',\n",
       " 'Member type',\n",
       " 'Start Date',\n",
       " 'Start Time',\n",
       " 'End Date',\n",
       " 'End Time']"
      ]
     },
     "execution_count": 5,
     "metadata": {},
     "output_type": "execute_result"
    }
   ],
   "source": [
    "list(df.columns.values)"
   ]
  },
  {
   "cell_type": "code",
   "execution_count": 6,
   "metadata": {},
   "outputs": [
    {
     "data": {
      "text/plain": [
       "Start Date  Member type\n",
       "2018-05-01  Casual          2913\n",
       "            Member         11214\n",
       "2018-05-02  Casual          2736\n",
       "            Member         11196\n",
       "2018-05-03  Casual          2957\n",
       "            Member         11206\n",
       "2018-05-04  Casual          4044\n",
       "            Member         10076\n",
       "2018-05-05  Casual          4783\n",
       "            Member          7469\n",
       "2018-05-06  Casual          4518\n",
       "            Member          6894\n",
       "2018-05-07  Casual          3319\n",
       "            Member         10503\n",
       "2018-05-08  Casual          2622\n",
       "            Member         11235\n",
       "2018-05-09  Casual          2709\n",
       "            Member         11348\n",
       "2018-05-10  Casual          2649\n",
       "            Member         10399\n",
       "2018-05-11  Casual          4184\n",
       "            Member         10845\n",
       "2018-05-12  Casual          6114\n",
       "            Member          8113\n",
       "2018-05-13  Casual          3081\n",
       "            Member          5175\n",
       "2018-05-14  Casual          2481\n",
       "            Member          8378\n",
       "2018-05-15  Casual          2672\n",
       "            Member          9782\n",
       "                           ...  \n",
       "2018-05-17  Casual           510\n",
       "            Member          4285\n",
       "2018-05-18  Casual           471\n",
       "            Member          4305\n",
       "2018-05-19  Casual          2044\n",
       "            Member          4754\n",
       "2018-05-20  Casual          5929\n",
       "            Member          8151\n",
       "2018-05-21  Casual          3559\n",
       "            Member         11068\n",
       "2018-05-22  Casual          1422\n",
       "            Member          7205\n",
       "2018-05-23  Casual          3042\n",
       "            Member         11526\n",
       "2018-05-24  Casual          3353\n",
       "            Member         11115\n",
       "2018-05-25  Casual          4417\n",
       "            Member         10408\n",
       "2018-05-26  Casual          5989\n",
       "            Member          6625\n",
       "2018-05-27  Casual          6627\n",
       "            Member          6347\n",
       "2018-05-28  Casual          5276\n",
       "            Member          6862\n",
       "2018-05-29  Casual          2962\n",
       "            Member         10379\n",
       "2018-05-30  Casual          2344\n",
       "            Member         10419\n",
       "2018-05-31  Casual          1658\n",
       "            Member          8472\n",
       "Length: 62, dtype: int64"
      ]
     },
     "execution_count": 6,
     "metadata": {},
     "output_type": "execute_result"
    }
   ],
   "source": [
    "Capital_MemberType18 = df.groupby([\"Start Date\", \"Member type\"])\n",
    "Capital_MemberType18.size()"
   ]
  },
  {
   "cell_type": "code",
   "execution_count": null,
   "metadata": {},
   "outputs": [],
   "source": []
  },
  {
   "cell_type": "markdown",
   "metadata": {},
   "source": [
    "# Capital Bike Share May 2017 "
   ]
  },
  {
   "cell_type": "code",
   "execution_count": 21,
   "metadata": {
    "scrolled": false
   },
   "outputs": [],
   "source": [
    "df2 = pd.read_csv('2017-capitalbikeshare-tripdata/2017Q2-capitalbikeshare-tripdata.csv')\n"
   ]
  },
  {
   "cell_type": "code",
   "execution_count": null,
   "metadata": {},
   "outputs": [],
   "source": [
    "df2['Start Date'] = pd.to_datetime(df2['Start date']).dt.date\n",
    "df2['Start Time'] = pd.to_datetime(df2['Start date']).dt.time\n",
    "\n",
    "df2['End Date'] = pd.to_datetime(df2['End date']).dt.date\n",
    "df2['End Time'] = pd.to_datetime(df2['End date']).dt.time\n"
   ]
  },
  {
   "cell_type": "code",
   "execution_count": null,
   "metadata": {},
   "outputs": [],
   "source": [
    "list(df2.columns.values)"
   ]
  },
  {
   "cell_type": "code",
   "execution_count": null,
   "metadata": {},
   "outputs": [],
   "source": [
    "Capital_MemberType17 = df2.groupby([\"Start Date\", \"Member type\"])\n",
    "Capital_MemberType17.size()"
   ]
  },
  {
   "cell_type": "code",
   "execution_count": null,
   "metadata": {},
   "outputs": [],
   "source": [
    "Capital_clean = df2.loc[username] == \"Customer\""
   ]
  },
  {
   "cell_type": "markdown",
   "metadata": {},
   "source": [
    "## Divvy Bike Share May 2017 - NonSubscriber"
   ]
  },
  {
   "cell_type": "code",
   "execution_count": 7,
   "metadata": {},
   "outputs": [],
   "source": [
    "df3 = pd.read_csv(\"chicago-divvy-bicycle-sharing-data\\Divvy_Trips_-_Non-Subscriber-Only.csv\")"
   ]
  },
  {
   "cell_type": "code",
   "execution_count": 8,
   "metadata": {},
   "outputs": [],
   "source": [
    "df3['Start Date'] = pd.to_datetime(df3['START TIME']).dt.date\n",
    "df3['Start Time'] = pd.to_datetime(df3['START TIME']).dt.time\n",
    "\n",
    "df3['End Date'] = pd.to_datetime(df3['STOP TIME']).dt.date\n",
    "df3['End Time'] = pd.to_datetime(df3['STOP TIME']).dt.time\n",
    "\n",
    "#df3"
   ]
  },
  {
   "cell_type": "code",
   "execution_count": 4,
   "metadata": {},
   "outputs": [
    {
     "data": {
      "text/plain": [
       "['TRIP ID',\n",
       " 'START TIME',\n",
       " 'STOP TIME',\n",
       " 'BIKE ID',\n",
       " 'TRIP DURATION (Secs)',\n",
       " 'FROM STATION ID',\n",
       " 'FROM STATION NAME',\n",
       " 'TO STATION ID',\n",
       " 'TO STATION NAME',\n",
       " 'USER TYPE',\n",
       " 'GENDER',\n",
       " 'BIRTH YEAR',\n",
       " 'FROM LATITUDE',\n",
       " 'FROM LONGITUDE',\n",
       " 'FROM LOCATION',\n",
       " 'TO LATITUDE',\n",
       " 'TO LONGITUDE',\n",
       " 'TO LOCATION',\n",
       " 'Start Date',\n",
       " 'Start Time',\n",
       " 'End Date',\n",
       " 'End Time']"
      ]
     },
     "execution_count": 4,
     "metadata": {},
     "output_type": "execute_result"
    }
   ],
   "source": [
    "list(df3.columns.values)"
   ]
  },
  {
   "cell_type": "code",
   "execution_count": 15,
   "metadata": {},
   "outputs": [
    {
     "data": {
      "text/plain": [
       "Start Date  TRIP DURATION (Secs)  TRIP ID \n",
       "2017-05-01  66                    13848353    1\n",
       "            73                    13847467    1\n",
       "            109                   13850577    1\n",
       "            122                   13850573    1\n",
       "            142                   13849979    1\n",
       "            143                   13848048    1\n",
       "            170                   13849971    1\n",
       "            172                   13849964    1\n",
       "            185                   13849974    1\n",
       "            197                   13848260    1\n",
       "            217                   13846855    1\n",
       "            219                   13846650    1\n",
       "            256                   13847744    1\n",
       "            272                   13846810    1\n",
       "            289                   13848557    1\n",
       "            310                   13850968    1\n",
       "            313                   13844509    1\n",
       "            314                   13850595    1\n",
       "            317                   13847365    1\n",
       "            321                   13850043    1\n",
       "            331                   13847762    1\n",
       "            333                   13848404    1\n",
       "            334                   13848573    1\n",
       "            343                   13847761    1\n",
       "            344                   13850036    1\n",
       "                                  13850637    1\n",
       "            348                   13847994    1\n",
       "            353                   13851521    1\n",
       "            354                   13847061    1\n",
       "            364                   13851196    1\n",
       "                                             ..\n",
       "2017-05-31  10369                 14263736    1\n",
       "            11208                 14251251    1\n",
       "            11473                 14255016    1\n",
       "            11982                 14251123    1\n",
       "            12189                 14263694    1\n",
       "            12479                 14253670    1\n",
       "            13043                 14253406    1\n",
       "            14054                 14252285    1\n",
       "            14076                 14252282    1\n",
       "            14776                 14263011    1\n",
       "            14785                 14263008    1\n",
       "            14945                 14254809    1\n",
       "            15006                 14254793    1\n",
       "            15261                 14259730    1\n",
       "            15434                 14254521    1\n",
       "            16117                 14254365    1\n",
       "            17430                 14256511    1\n",
       "            17472                 14256505    1\n",
       "            18383                 14253136    1\n",
       "            18391                 14253129    1\n",
       "            18563                 14253080    1\n",
       "            20319                 14255932    1\n",
       "            20481                 14255889    1\n",
       "            22297                 14250665    1\n",
       "            22311                 14250662    1\n",
       "            22642                 14250660    1\n",
       "            26776                 14251818    1\n",
       "            32151                 14251134    1\n",
       "            40055                 14263834    1\n",
       "            85704                 14251546    1\n",
       "Length: 82319, dtype: int64"
      ]
     },
     "execution_count": 15,
     "metadata": {},
     "output_type": "execute_result"
    }
   ],
   "source": [
    "Divvy_NonSub17 = df3.groupby([\"Start Date\",\"TRIP DURATION (Secs)\", \"TRIP ID\"]).size()\n",
    "Divvy_NonSub17\n"
   ]
  },
  {
   "cell_type": "code",
   "execution_count": null,
   "metadata": {},
   "outputs": [],
   "source": [
    "weekday_df3[\"Weekdate\"] = df3[\"Start Date\"].apply(lambda )"
   ]
  },
  {
   "cell_type": "markdown",
   "metadata": {},
   "source": [
    "# Divvy Bike Share May 2017- Subscriber\n"
   ]
  },
  {
   "cell_type": "code",
   "execution_count": 9,
   "metadata": {},
   "outputs": [],
   "source": [
    "df4 = pd.read_csv(\"chicago-divvy-bicycle-sharing-data\\Divvy_Trips_-_Subscriber-Only.csv\")\n"
   ]
  },
  {
   "cell_type": "code",
   "execution_count": 35,
   "metadata": {},
   "outputs": [],
   "source": [
    "df4_c= df4.drop('START TIME', axis =1)\n",
    "df4_cl = df4_c.drop('STOP TIME', axis=1)"
   ]
  },
  {
   "cell_type": "code",
   "execution_count": 36,
   "metadata": {},
   "outputs": [
    {
     "data": {
      "text/plain": [
       "['TRIP ID',\n",
       " 'BIKE ID',\n",
       " 'TRIP DURATION (Secs)',\n",
       " 'FROM STATION ID',\n",
       " 'FROM STATION NAME',\n",
       " 'TO STATION ID',\n",
       " 'TO STATION NAME',\n",
       " 'USER TYPE',\n",
       " 'GENDER',\n",
       " 'BIRTH YEAR',\n",
       " 'FROM LATITUDE',\n",
       " 'FROM LONGITUDE',\n",
       " 'FROM LOCATION',\n",
       " 'TO LATITUDE',\n",
       " 'TO LONGITUDE',\n",
       " 'TO LOCATION',\n",
       " 'Start Date',\n",
       " 'Start Time',\n",
       " 'End Date',\n",
       " 'End Time']"
      ]
     },
     "execution_count": 36,
     "metadata": {},
     "output_type": "execute_result"
    }
   ],
   "source": [
    "list(df4_cl.columns.values)"
   ]
  },
  {
   "cell_type": "code",
   "execution_count": 37,
   "metadata": {},
   "outputs": [
    {
     "data": {
      "text/html": [
       "<div>\n",
       "<style scoped>\n",
       "    .dataframe tbody tr th:only-of-type {\n",
       "        vertical-align: middle;\n",
       "    }\n",
       "\n",
       "    .dataframe tbody tr th {\n",
       "        vertical-align: top;\n",
       "    }\n",
       "\n",
       "    .dataframe thead th {\n",
       "        text-align: right;\n",
       "    }\n",
       "</style>\n",
       "<table border=\"1\" class=\"dataframe\">\n",
       "  <thead>\n",
       "    <tr style=\"text-align: right;\">\n",
       "      <th></th>\n",
       "      <th>TRIP ID</th>\n",
       "      <th>START TIME</th>\n",
       "      <th>STOP TIME</th>\n",
       "      <th>BIKE ID</th>\n",
       "      <th>TRIP DURATION (Secs)</th>\n",
       "      <th>FROM STATION ID</th>\n",
       "      <th>FROM STATION NAME</th>\n",
       "      <th>TO STATION ID</th>\n",
       "      <th>TO STATION NAME</th>\n",
       "      <th>USER TYPE</th>\n",
       "      <th>...</th>\n",
       "      <th>FROM LATITUDE</th>\n",
       "      <th>FROM LONGITUDE</th>\n",
       "      <th>FROM LOCATION</th>\n",
       "      <th>TO LATITUDE</th>\n",
       "      <th>TO LONGITUDE</th>\n",
       "      <th>TO LOCATION</th>\n",
       "      <th>Start Date</th>\n",
       "      <th>Start Time</th>\n",
       "      <th>End Date</th>\n",
       "      <th>End Time</th>\n",
       "    </tr>\n",
       "  </thead>\n",
       "  <tbody>\n",
       "    <tr>\n",
       "      <th>0</th>\n",
       "      <td>13842911</td>\n",
       "      <td>5/1/2017 0:02</td>\n",
       "      <td>5/1/2017 0:07</td>\n",
       "      <td>2976</td>\n",
       "      <td>255</td>\n",
       "      <td>109</td>\n",
       "      <td>900 W Harrison St</td>\n",
       "      <td>22</td>\n",
       "      <td>May St &amp; Taylor St</td>\n",
       "      <td>Subscriber</td>\n",
       "      <td>...</td>\n",
       "      <td>41.874675</td>\n",
       "      <td>-87.650019</td>\n",
       "      <td>POINT (-87.650019 41.874675)</td>\n",
       "      <td>41.869482</td>\n",
       "      <td>-87.655486</td>\n",
       "      <td>POINT (-87.655486 41.869482)</td>\n",
       "      <td>2017-05-01</td>\n",
       "      <td>00:02:00</td>\n",
       "      <td>2017-05-01</td>\n",
       "      <td>00:07:00</td>\n",
       "    </tr>\n",
       "    <tr>\n",
       "      <th>1</th>\n",
       "      <td>13842910</td>\n",
       "      <td>5/1/2017 0:02</td>\n",
       "      <td>5/1/2017 0:24</td>\n",
       "      <td>4909</td>\n",
       "      <td>1,307</td>\n",
       "      <td>13</td>\n",
       "      <td>Wilton Ave &amp; Diversey Pkwy</td>\n",
       "      <td>489</td>\n",
       "      <td>Drake Ave &amp; Addison St</td>\n",
       "      <td>Subscriber</td>\n",
       "      <td>...</td>\n",
       "      <td>41.932418</td>\n",
       "      <td>-87.652705</td>\n",
       "      <td>POINT (-87.652705 41.932418)</td>\n",
       "      <td>41.946782</td>\n",
       "      <td>-87.716422</td>\n",
       "      <td>POINT (-87.716422 41.946782)</td>\n",
       "      <td>2017-05-01</td>\n",
       "      <td>00:02:00</td>\n",
       "      <td>2017-05-01</td>\n",
       "      <td>00:24:00</td>\n",
       "    </tr>\n",
       "    <tr>\n",
       "      <th>2</th>\n",
       "      <td>13842912</td>\n",
       "      <td>5/1/2017 0:21</td>\n",
       "      <td>5/1/2017 0:32</td>\n",
       "      <td>2522</td>\n",
       "      <td>693</td>\n",
       "      <td>414</td>\n",
       "      <td>Canal St &amp; Taylor St</td>\n",
       "      <td>205</td>\n",
       "      <td>Paulina St &amp; 18th St</td>\n",
       "      <td>Subscriber</td>\n",
       "      <td>...</td>\n",
       "      <td>41.870257</td>\n",
       "      <td>-87.639474</td>\n",
       "      <td>POINT (-87.639474 41.870257)</td>\n",
       "      <td>41.857901</td>\n",
       "      <td>-87.668745</td>\n",
       "      <td>POINT (-87.668745 41.857901)</td>\n",
       "      <td>2017-05-01</td>\n",
       "      <td>00:21:00</td>\n",
       "      <td>2017-05-01</td>\n",
       "      <td>00:32:00</td>\n",
       "    </tr>\n",
       "    <tr>\n",
       "      <th>3</th>\n",
       "      <td>13842913</td>\n",
       "      <td>5/1/2017 0:25</td>\n",
       "      <td>5/1/2017 0:32</td>\n",
       "      <td>258</td>\n",
       "      <td>429</td>\n",
       "      <td>72</td>\n",
       "      <td>Wabash Ave &amp; 16th St</td>\n",
       "      <td>170</td>\n",
       "      <td>Clinton St &amp; 18th St</td>\n",
       "      <td>Subscriber</td>\n",
       "      <td>...</td>\n",
       "      <td>41.860384</td>\n",
       "      <td>-87.625813</td>\n",
       "      <td>POINT (-87.625813 41.860384)</td>\n",
       "      <td>41.857950</td>\n",
       "      <td>-87.640826</td>\n",
       "      <td>POINT (-87.640826 41.85795)</td>\n",
       "      <td>2017-05-01</td>\n",
       "      <td>00:25:00</td>\n",
       "      <td>2017-05-01</td>\n",
       "      <td>00:32:00</td>\n",
       "    </tr>\n",
       "    <tr>\n",
       "      <th>4</th>\n",
       "      <td>13842914</td>\n",
       "      <td>5/1/2017 0:27</td>\n",
       "      <td>5/1/2017 0:44</td>\n",
       "      <td>790</td>\n",
       "      <td>1,015</td>\n",
       "      <td>295</td>\n",
       "      <td>Broadway &amp; Argyle St</td>\n",
       "      <td>482</td>\n",
       "      <td>Campbell Ave &amp; Montrose Ave</td>\n",
       "      <td>Subscriber</td>\n",
       "      <td>...</td>\n",
       "      <td>41.972972</td>\n",
       "      <td>-87.659637</td>\n",
       "      <td>POINT (-87.659637 41.972972)</td>\n",
       "      <td>41.961526</td>\n",
       "      <td>-87.691165</td>\n",
       "      <td>POINT (-87.691165 41.961526)</td>\n",
       "      <td>2017-05-01</td>\n",
       "      <td>00:27:00</td>\n",
       "      <td>2017-05-01</td>\n",
       "      <td>00:44:00</td>\n",
       "    </tr>\n",
       "  </tbody>\n",
       "</table>\n",
       "<p>5 rows × 22 columns</p>\n",
       "</div>"
      ],
      "text/plain": [
       "    TRIP ID     START TIME      STOP TIME  BIKE ID TRIP DURATION (Secs)  \\\n",
       "0  13842911  5/1/2017 0:02  5/1/2017 0:07     2976                  255   \n",
       "1  13842910  5/1/2017 0:02  5/1/2017 0:24     4909                1,307   \n",
       "2  13842912  5/1/2017 0:21  5/1/2017 0:32     2522                  693   \n",
       "3  13842913  5/1/2017 0:25  5/1/2017 0:32      258                  429   \n",
       "4  13842914  5/1/2017 0:27  5/1/2017 0:44      790                1,015   \n",
       "\n",
       "   FROM STATION ID           FROM STATION NAME  TO STATION ID  \\\n",
       "0              109           900 W Harrison St             22   \n",
       "1               13  Wilton Ave & Diversey Pkwy            489   \n",
       "2              414        Canal St & Taylor St            205   \n",
       "3               72        Wabash Ave & 16th St            170   \n",
       "4              295        Broadway & Argyle St            482   \n",
       "\n",
       "               TO STATION NAME   USER TYPE    ...    FROM LATITUDE  \\\n",
       "0           May St & Taylor St  Subscriber    ...        41.874675   \n",
       "1       Drake Ave & Addison St  Subscriber    ...        41.932418   \n",
       "2         Paulina St & 18th St  Subscriber    ...        41.870257   \n",
       "3         Clinton St & 18th St  Subscriber    ...        41.860384   \n",
       "4  Campbell Ave & Montrose Ave  Subscriber    ...        41.972972   \n",
       "\n",
       "   FROM LONGITUDE                 FROM LOCATION  TO LATITUDE TO LONGITUDE  \\\n",
       "0      -87.650019  POINT (-87.650019 41.874675)    41.869482   -87.655486   \n",
       "1      -87.652705  POINT (-87.652705 41.932418)    41.946782   -87.716422   \n",
       "2      -87.639474  POINT (-87.639474 41.870257)    41.857901   -87.668745   \n",
       "3      -87.625813  POINT (-87.625813 41.860384)    41.857950   -87.640826   \n",
       "4      -87.659637  POINT (-87.659637 41.972972)    41.961526   -87.691165   \n",
       "\n",
       "                    TO LOCATION  Start Date Start Time    End Date  End Time  \n",
       "0  POINT (-87.655486 41.869482)  2017-05-01   00:02:00  2017-05-01  00:07:00  \n",
       "1  POINT (-87.716422 41.946782)  2017-05-01   00:02:00  2017-05-01  00:24:00  \n",
       "2  POINT (-87.668745 41.857901)  2017-05-01   00:21:00  2017-05-01  00:32:00  \n",
       "3   POINT (-87.640826 41.85795)  2017-05-01   00:25:00  2017-05-01  00:32:00  \n",
       "4  POINT (-87.691165 41.961526)  2017-05-01   00:27:00  2017-05-01  00:44:00  \n",
       "\n",
       "[5 rows x 22 columns]"
      ]
     },
     "execution_count": 37,
     "metadata": {},
     "output_type": "execute_result"
    }
   ],
   "source": [
    "df4['Start Date'] = pd.to_datetime(df4['START TIME']).dt.date\n",
    "df4['Start Time'] = pd.to_datetime(df4['START TIME']).dt.time\n",
    "\n",
    "df4['End Date'] = pd.to_datetime(df4['STOP TIME']).dt.date\n",
    "df4['End Time'] = pd.to_datetime(df4['STOP TIME']).dt.time\n",
    "df4.dropna()\n",
    "df4.head()"
   ]
  },
  {
   "cell_type": "code",
   "execution_count": 19,
   "metadata": {},
   "outputs": [
    {
     "data": {
      "text/plain": [
       "Start Date  TRIP DURATION (Secs)  TRIP ID   BIRTH YEAR  GENDER  FROM STATION NAME              \n",
       "2017-05-01  1,000                 13843646  1987        Female  Milwaukee Ave & Wabansia Ave       1\n",
       "                                  13850516  1980        Male    Winchester Ave & Elston Ave        1\n",
       "            1,001                 13843734  1969        Female  Wells St & Concord Ln              1\n",
       "                                  13845122  1966        Male    Green St & Randolph St             1\n",
       "            1,002                 13848642  1990        Male    Daley Center Plaza                 1\n",
       "            1,003                 13843147  1980        Male    Wabash Ave & Roosevelt Rd          1\n",
       "                                  13850581  1992        Male    Franklin St & Monroe St            1\n",
       "            1,004                 13850887  1984        Male    Halsted St & Willow St             1\n",
       "            1,005                 13848810  1982        Male    Damen Ave & Madison St             1\n",
       "            1,006                 13844054  1984        Male    Wells St & Concord Ln              1\n",
       "                                  13848318  1986        Female  Ashland Ave & Chicago Ave          1\n",
       "                                  13848668  1972        Male    Racine Ave (May St) & Fulton St    1\n",
       "            1,007                 13845171  1987        Female  Indiana Ave & Roosevelt Rd         1\n",
       "                                  13846645  1963        Female  Clark St & Elm St                  1\n",
       "            1,008                 13844452  1971        Male    Clinton St & Jackson Blvd          1\n",
       "                                  13848674  1983        Male    Michigan Ave & Oak St              1\n",
       "                                  13849011  1987        Male    LaSalle St & Illinois St           1\n",
       "            1,009                 13845567  1970        Male    Jefferson St & Monroe St           1\n",
       "                                  13846291  1984        Male    Ashland Ave & Grand Ave            1\n",
       "                                  13846530  1976        Male    Lake Shore Dr & Monroe St          1\n",
       "                                  13846867  1948        Male    Wood St & Taylor St                1\n",
       "                                  13849135  1977        Male    Franklin St & Lake St              1\n",
       "            1,011                 13849813  1962        Female  Rush St & Superior St              1\n",
       "                                  13850178  1988        Male    Halsted St & North Branch St       1\n",
       "            1,012                 13843550  1986        Female  Michigan Ave & 14th St             1\n",
       "                                  13846947  1990        Female  Southport Ave & Belmont Ave        1\n",
       "            1,013                 13843338  1992        Male    Sheffield Ave & Webster Ave        1\n",
       "                                  13843702  1978        Female  Larrabee St & Kingsbury St         1\n",
       "                                  13844997  1980        Female  Canal St & Adams St                1\n",
       "            1,014                 13844042  1988        Male    Clinton St & Lake St               1\n",
       "                                                                                                  ..\n",
       "2017-05-31  994                   14253601  1987        Male    Southport Ave & Irving Park Rd     1\n",
       "                                  14254722  1973        Male    Michigan Ave & Washington St       1\n",
       "                                  14261737  1988        Female  Eckhart Park                       1\n",
       "            995                   14247356  1961        Male    Southport Ave & Clybourn Ave       1\n",
       "                                  14248614  1991        Female  Clark St & 9th St (AMLI)           1\n",
       "                                  14259310  1986        Male    Lake Shore Dr & Wellington Ave     1\n",
       "                                  14261716  1985        Male    Artesian Ave & Hubbard St          1\n",
       "                                  14261987  1991        Male    Clinton St & Jackson Blvd          1\n",
       "            996                   14253545  1989        Male    Richmond St & Diversey Ave         1\n",
       "                                  14263507  1993        Male    Green St & Madison St              1\n",
       "                                  14263642  1981        Male    Damen Ave & Cortland St            1\n",
       "            997                   14249137  1952        Female  Western Ave & 21st St              1\n",
       "                                  14249184  1989        Male    Wells St & Concord Ln              1\n",
       "                                  14257961  1974        Female  Clinton St & Jackson Blvd          1\n",
       "                                  14263137  1992        Female  Michigan Ave & Washington St       1\n",
       "            998                   14248569  1986        Female  Clark St & Lincoln Ave             1\n",
       "                                  14252753  1990        Female  Dayton St & North Ave              1\n",
       "                                  14257230  1979        Female  Richmond St & Diversey Ave         1\n",
       "                                  14264841  1989        Male    Clark St & Lincoln Ave             1\n",
       "            999                   14246365  1990        Female  Southport Ave & Clybourn Ave       1\n",
       "                                  14249252  1980        Female  Michigan Ave & 18th St             1\n",
       "                                  14250726  1986        Female  Streeter Dr & Grand Ave            1\n",
       "                                  14256077  1988        Male    Clinton St & Washington Blvd       1\n",
       "                                  14257747  1952        Female  Ashland Ave & Harrison St          1\n",
       "                                  14258352  1982        Male    Financial Pl & Congress Pkwy       1\n",
       "                                  14258805  1985        Female  St. Clair St & Erie St             1\n",
       "                                  14260095  1989        Male    Southport Ave & Wellington Ave     1\n",
       "                                  14261748  1991        Female  MLK Jr Dr & 29th St                1\n",
       "                                  14262956  1989        Male    Rush St & Hubbard St               1\n",
       "                                  14263624  1991        Male    Paulina Ave & North Ave            1\n",
       "Length: 263631, dtype: int64"
      ]
     },
     "execution_count": 19,
     "metadata": {},
     "output_type": "execute_result"
    }
   ],
   "source": [
    "Divvy_Sub17 = df4.groupby([\"Start Date\",\"TRIP DURATION (Secs)\", \"TRIP ID\", \"BIRTH YEAR\", \"GENDER\", \"FROM STATION NAME\"])\n",
    "Divvy_Sub17.size()"
   ]
  },
  {
   "cell_type": "code",
   "execution_count": 29,
   "metadata": {},
   "outputs": [
    {
     "data": {
      "text/plain": [
       "TRIP ID                   int64\n",
       "START TIME               object\n",
       "STOP TIME                object\n",
       "BIKE ID                   int64\n",
       "TRIP DURATION (Secs)     object\n",
       "FROM STATION ID           int64\n",
       "FROM STATION NAME        object\n",
       "TO STATION ID             int64\n",
       "TO STATION NAME          object\n",
       "USER TYPE                object\n",
       "GENDER                   object\n",
       "BIRTH YEAR                int64\n",
       "FROM LATITUDE           float64\n",
       "FROM LONGITUDE          float64\n",
       "FROM LOCATION            object\n",
       "TO LATITUDE             float64\n",
       "TO LONGITUDE            float64\n",
       "TO LOCATION              object\n",
       "Start Date               object\n",
       "Start Time               object\n",
       "End Date                 object\n",
       "End Time                 object\n",
       "dtype: object"
      ]
     },
     "execution_count": 29,
     "metadata": {},
     "output_type": "execute_result"
    }
   ],
   "source": [
    "df4.dtypes"
   ]
  },
  {
   "cell_type": "code",
   "execution_count": null,
   "metadata": {},
   "outputs": [],
   "source": [
    "df4_organized = pd.DataFrame({\n",
    "    \"TRIP DURATION (Secs)\": df4['TRIP DURATION (Secs)'],\\\n",
    "    \"TRIP ID\": df4['TRIP ID'],\\\n",
    "    \n",
    "})\n"
   ]
  },
  {
   "cell_type": "code",
   "execution_count": null,
   "metadata": {},
   "outputs": [],
   "source": [
    "Divvy_Sub17_StationCount = df4.groupby(\"Start Date\")[\"FROM STATION NAME\"].value_counts().fillna(0)\n",
    "Divvy_Sub17_StationCount"
   ]
  },
  {
   "cell_type": "code",
   "execution_count": 18,
   "metadata": {},
   "outputs": [
    {
     "ename": "NameError",
     "evalue": "name 'df4' is not defined",
     "output_type": "error",
     "traceback": [
      "\u001b[1;31m---------------------------------------------------------------------------\u001b[0m",
      "\u001b[1;31mNameError\u001b[0m                                 Traceback (most recent call last)",
      "\u001b[1;32m<ipython-input-18-af8044a986fe>\u001b[0m in \u001b[0;36m<module>\u001b[1;34m()\u001b[0m\n\u001b[0;32m     62\u001b[0m     \u001b[1;32melif\u001b[0m \u001b[0mx\u001b[0m\u001b[1;33m[\u001b[0m\u001b[1;34m\"2017-05-27\"\u001b[0m\u001b[1;33m]\u001b[0m \u001b[1;33m==\u001b[0m \u001b[1;34m\"2017-05-27\"\u001b[0m\u001b[1;33m:\u001b[0m\u001b[1;33m\u001b[0m\u001b[0m\n\u001b[0;32m     63\u001b[0m         \u001b[1;32mreturn\u001b[0m \u001b[1;34m'Saturday'\u001b[0m\u001b[1;33m\u001b[0m\u001b[0m\n\u001b[1;32m---> 64\u001b[1;33m \u001b[0mdf4\u001b[0m\u001b[1;33m[\u001b[0m\u001b[1;34m\"Week Day\"\u001b[0m\u001b[1;33m]\u001b[0m \u001b[1;33m=\u001b[0m \u001b[0mdf4\u001b[0m\u001b[1;33m[\u001b[0m\u001b[1;34m\"Start Date\"\u001b[0m\u001b[1;33m]\u001b[0m\u001b[1;33m.\u001b[0m\u001b[0mapply\u001b[0m\u001b[1;33m(\u001b[0m\u001b[0mweekday\u001b[0m\u001b[1;33m)\u001b[0m\u001b[1;33m\u001b[0m\u001b[0m\n\u001b[0m\u001b[0;32m     65\u001b[0m \u001b[0mdf4\u001b[0m\u001b[1;33m\u001b[0m\u001b[0m\n",
      "\u001b[1;31mNameError\u001b[0m: name 'df4' is not defined"
     ]
    }
   ],
   "source": [
    "def weekday(x):\n",
    "    if x[\"2017-05-07\"] == \"2017-05-07\":\n",
    "        return 'Sunday'\n",
    "    elif x[\"2017-05-14\"] == \"2017-05-14\":\n",
    "        return 'Sunday'\n",
    "    elif x[\"2017-05-21\"] == \"2017-05-21\":\n",
    "        return 'Sunday'\n",
    "    elif x[\"2017-05-28\"] == \"2017-05-28\":\n",
    "        return 'Sunday'\n",
    "    elif x[\"2017-05-01\"] == \"2017-05-01\":\n",
    "        return 'Monday'\n",
    "    elif x[\"2017-05-08\"] == \"2017-05-08\":\n",
    "        return 'Monday'\n",
    "    elif x[\"2017-05-15\"] == \"2017-05-15\":\n",
    "        return 'Monday'\n",
    "    elif x[\"2017-05-22\"] == \"2017-05-22\":\n",
    "        return 'Monday'\n",
    "    elif x[\"2017-05-29\"] == \"2017-05-29\":\n",
    "        return 'Monday'\n",
    "    elif x[\"2017-05-02\"] == \"2017-05-02\":\n",
    "        return 'Tuesday'\n",
    "    elif x[\"2017-05-09\"] == \"2017-05-09\":\n",
    "        return 'Tuesday'\n",
    "    elif x[\"2017-05-16\"] == \"2017-05-16\":\n",
    "        return 'Tuesday'\n",
    "    elif x[\"2017-05-23\"] == \"2017-05-23\":\n",
    "        return 'Tuesday'\n",
    "    elif x[\"2017-05-30\"] == \"2017-05-30\":\n",
    "        return 'Tuesday'\n",
    "    elif x[\"2017-05-03\"] == \"2017-05-03\":\n",
    "        return 'Wednesday'\n",
    "    elif x[\"2017-05-10\"] == \"2017-05-10\":\n",
    "        return \"Wednesday\"\n",
    "    elif x[\"2017-05-17\"] == \"2017-05-17\": \n",
    "        return 'Wednesday'\n",
    "    elif x[\"2017-05-24\"] == \"2017-05-24\":\n",
    "        return 'Wednesday'\n",
    "    elif x[\"2017-05-31\"] == \"2017-05-31\":\n",
    "        return 'Wednesday'\n",
    "    elif x[\"2017-05-04\"] == \"2017-05-04\":\n",
    "        return 'Thursday'\n",
    "    elif x[\"2017-05-11\"] == \"2017-05-11\":\n",
    "        return 'Thursday'\n",
    "    elif x[\"2017-05-18\"] == \"2017-05-18\":\n",
    "        return 'Thursday'\n",
    "    elif x[\"2017-05-25\"] == \"2017-05-25\":\n",
    "        return 'Thursday'\n",
    "    elif x[\"2017-05-05\"] == \"2017-05-05\":\n",
    "        return 'Friday'\n",
    "    elif x[\"2017-05-12\"] == \"2017-05-12\":\n",
    "        return 'Friday'\n",
    "    elif x[\"2017-05-19\"] == \"2017-05-19\":\n",
    "        return 'Friday'\n",
    "    elif x[\"2017-05-26\"] == \"2017-05-26\":\n",
    "        return 'Friday'\n",
    "    elif x[\"2017-05-06\"] == \"2017-05-06\":\n",
    "        return 'Saturday'\n",
    "    elif x[\"2017-05-13\"] == \"2017-05-13\":\n",
    "        return 'Saturday'\n",
    "    elif x[\"2017-05-20\"] == \"2017-05-20\":\n",
    "        return 'Saturday'\n",
    "    elif x[\"2017-05-27\"] == \"2017-05-27\":\n",
    "        return 'Saturday'\n",
    "df4[\"Week Day\"] = df4[\"Start Date\"].apply(weekday)\n",
    "df4"
   ]
  },
  {
   "cell_type": "code",
   "execution_count": null,
   "metadata": {},
   "outputs": [],
   "source": [
    "Divvy_Sub17_Count = df4.groupby(\"Start Date\")[\"FROM STATION NAME\"].value_counts().unstack().fillna(0)\n",
    "Divvy_Sub17_Count"
   ]
  },
  {
   "cell_type": "code",
   "execution_count": null,
   "metadata": {},
   "outputs": [],
   "source": [
    "Divvy_Sub17_Duration = df4.groupby([\"Start Date\",\"TRIP DURATION (Secs)\", \"TRIP ID\", \"\"])\n",
    "Divvy_Sub17_Duration.size()"
   ]
  },
  {
   "cell_type": "markdown",
   "metadata": {},
   "source": [
    "## Citi Bike Share Data - May 2018"
   ]
  },
  {
   "cell_type": "code",
   "execution_count": null,
   "metadata": {},
   "outputs": [],
   "source": [
    "df5 = pd.read_csv('JC-201805-citibike-tripdata.csv')"
   ]
  },
  {
   "cell_type": "code",
   "execution_count": null,
   "metadata": {
    "scrolled": true
   },
   "outputs": [],
   "source": [
    "list(df5.columns.values)"
   ]
  },
  {
   "cell_type": "code",
   "execution_count": null,
   "metadata": {},
   "outputs": [],
   "source": [
    "df5['Start Date'] = pd.to_datetime(df5['starttime']).dt.date\n",
    "df5['Start Time'] = pd.to_datetime(df5['starttime']).dt.time\n",
    "\n",
    "df5['End Date'] = pd.to_datetime(df5['stoptime']).dt.date\n",
    "df5['End Time'] = pd.to_datetime(df5['stoptime']).dt.time\n",
    "\n",
    "df5"
   ]
  },
  {
   "cell_type": "code",
   "execution_count": null,
   "metadata": {},
   "outputs": [],
   "source": [
    "Citi_MemberType18 = df.groupby([\"Start Date\", \"Member type\"])\n",
    "Citi_MemberType18.size()"
   ]
  },
  {
   "cell_type": "markdown",
   "metadata": {},
   "source": [
    "## Citi Bike Data - May 2017"
   ]
  },
  {
   "cell_type": "code",
   "execution_count": null,
   "metadata": {},
   "outputs": [],
   "source": [
    "df5 = pd.read_csv('JC-201705-citibike-tripdata.csv')"
   ]
  },
  {
   "cell_type": "code",
   "execution_count": null,
   "metadata": {},
   "outputs": [],
   "source": [
    "df5['Start Date'] = pd.to_datetime(df5['starttime']).dt.date\n",
    "df5['Start Time'] = pd.to_datetime(df5['starttime']).dt.time\n",
    "\n",
    "df5['End Date'] = pd.to_datetime(df5['stoptime']).dt.date\n",
    "df5['End Time'] = pd.to_datetime(df5['stoptime']).dt.time\n",
    "\n",
    "df5"
   ]
  },
  {
   "cell_type": "code",
   "execution_count": null,
   "metadata": {},
   "outputs": [],
   "source": [
    "Citi_MemberType17 = df.groupby([\"Start Date\", \"Member type\"])\n",
    "Citi_MemberType17.size()"
   ]
  }
 ],
 "metadata": {
  "kernelspec": {
   "display_name": "Python 3",
   "language": "python",
   "name": "python3"
  },
  "language_info": {
   "codemirror_mode": {
    "name": "ipython",
    "version": 3
   },
   "file_extension": ".py",
   "mimetype": "text/x-python",
   "name": "python",
   "nbconvert_exporter": "python",
   "pygments_lexer": "ipython3",
   "version": "3.6.4"
  }
 },
 "nbformat": 4,
 "nbformat_minor": 2
}
